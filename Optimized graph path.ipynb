{
 "cells": [
  {
   "cell_type": "markdown",
   "metadata": {
    "id": "MzZ4dJQYF7sH"
   },
   "source": [
    "# Find an Optimized path throguh a Graph using different Algorithms"
   ]
  },
  {
   "cell_type": "markdown",
   "metadata": {
    "id": "Fxb1aE9zF7sK"
   },
   "source": [
    "## Problem solving by Uninformed & Informed Search"
   ]
  },
  {
   "cell_type": "markdown",
   "metadata": {
    "id": "IL0QDMy3F7sL"
   },
   "source": [
    "### 1.\tDefine the environment in the following block"
   ]
  },
  {
   "cell_type": "markdown",
   "metadata": {
    "id": "RYwJPNLIF7sM"
   },
   "source": [
    "List the PEAS decription of the problem here in this markdown block"
   ]
  },
  {
   "cell_type": "markdown",
   "metadata": {
    "id": "XJ3cHp1IF7sM"
   },
   "source": [
    "Design the agent as PSA Agent(Problem Solving Agent)\n",
    "Clear Initial data structures to define the graph and variable declarations is expected\n",
    "IMPORTATANT: Write distinct code block as below"
   ]
  },
  {
   "cell_type": "code",
   "execution_count": 1,
   "metadata": {},
   "outputs": [],
   "source": [
    "#importing libraries\n",
    "import heapq\n",
    "import math\n",
    "import time\n",
    "import sys\n",
    "import random\n",
    "import tracemalloc"
   ]
  },
  {
   "cell_type": "code",
   "execution_count": 2,
   "metadata": {
    "id": "osp61RsLF7sN"
   },
   "outputs": [],
   "source": [
    "#Code Block: Set Initial State (Must handle dynamic inputs)\n",
    "# Initial Setup\n",
    "def initialize_state(graph, start, goal):\n",
    "    return start, goal, set(graph.keys())"
   ]
  },
  {
   "cell_type": "code",
   "execution_count": 3,
   "metadata": {
    "id": "XODwoWZ0F7sO"
   },
   "outputs": [],
   "source": [
    "#Code Block: Set the matrix for transition & cost (as relevant for the given problem)\n",
    "campus_map = {\n",
    "    \"admission office\": {\"hostel office\": 2, \"library\": 4},\n",
    "    \"hostel office\": {\"admission office\": 2, \"hostel visit\": 2, \"canteen\": 6, \"library\": 4},\n",
    "    \"hostel visit\": {\"hostel office\": 2, \"canteen\": 6, \"exit\": 4},\n",
    "    \"canteen\": {\"hostel visit\": 6, \"hostel office\": 6, \"library\": 7, \"dep't visit\": 2, \"exit\": 8},\n",
    "    \"dep't visit\": {\"canteen\": 2, \"library\": 3, \"exit\": 5},\n",
    "    \"library\": {\"admission office\": 4, \"canteen\": 7, \"dep't visit\": 3, \"hostel office\": 4},\n",
    "    \"exit\": {\"dep't visit\": 5, \"canteen\": 8, \"hostel visit\": 4}\n",
    "}\n",
    "\n",
    "# Code Block: Set the matrix for transition & cost\n",
    "node_coordinates = {\n",
    "    \"admission office\": (0, 7),\n",
    "    \"hostel office\": (2, 8),\n",
    "    \"hostel visit\": (9, 9),\n",
    "    \"canteen\": (7, 5),\n",
    "    \"dep't visit\": (6, 0),\n",
    "    \"library\": (1, 3),\n",
    "    \"exit\": (12, 8)\n",
    "}"
   ]
  },
  {
   "cell_type": "code",
   "execution_count": 4,
   "metadata": {
    "id": "ro24Gaj7F7sO"
   },
   "outputs": [],
   "source": [
    "#Code Block: Write a function to design the Transition Model/Successor function. Ideally this would be called while search algorithms are implemented\n",
    "def get_successors(graph, node):\n",
    "    return graph[node]"
   ]
  },
  {
   "cell_type": "code",
   "execution_count": 5,
   "metadata": {
    "id": "HIVPhrRWF7sO"
   },
   "outputs": [],
   "source": [
    "#Code block: Write fucntion to handle goal test (Must handle dynamic inputs). Ideally, this would be called while search algorithms are implemented-def hill_climbing_with_restart(graph, start, goal, max_restarts=10):\n",
    "def is_goal_reached(current_node, goal, visited, all_nodes):\n",
    "    return visited == all_nodes and current_node == goal"
   ]
  },
  {
   "cell_type": "markdown",
   "metadata": {
    "id": "Z4QwDeX5F7sO"
   },
   "source": [
    "### 2.\tDefinition of Algorithm 1 (A* algorithm)"
   ]
  },
  {
   "cell_type": "code",
   "execution_count": 6,
   "metadata": {
    "id": "zD_EPCHWF7sO"
   },
   "outputs": [],
   "source": [
    "#Code Block: Function for algorithm 1 implementation\n",
    "def euclidean_heuristic(node, target):\n",
    "    x1, y1 = node_coordinates[node]\n",
    "    x2, y2 = node_coordinates[target]\n",
    "    return math.sqrt((x2 - x1)**2 + (y2 - y1)**2)\n",
    "\n",
    "def a_star_visit_all(graph, start, goal):\n",
    "    tracemalloc.start()\n",
    "    open_set = []\n",
    "    all_nodes = set(graph.keys())\n",
    "    initial_state = (0, start, frozenset([start]), [start], 0)\n",
    "    heapq.heappush(open_set, initial_state)\n",
    "    visited_states = {}\n",
    "\n",
    "    while open_set:\n",
    "        current_cost, current_node, visited, path, cost_without_heuristic = heapq.heappop(open_set)\n",
    "        \n",
    "        if is_goal_reached(current_node, goal, visited, all_nodes):\n",
    "            memory_used = tracemalloc.get_traced_memory()[1]\n",
    "            tracemalloc.stop()\n",
    "            return path, current_cost, cost_without_heuristic, memory_used\n",
    "        \n",
    "        state_key = (current_node, visited)\n",
    "        if state_key in visited_states and visited_states[state_key] <= current_cost:\n",
    "            continue\n",
    "        visited_states[state_key] = current_cost\n",
    "\n",
    "        for neighbor, weight in get_successors(graph, current_node).items():\n",
    "            new_cost = current_cost + weight\n",
    "            new_cost_without_heuristic = cost_without_heuristic + weight\n",
    "            new_visited = visited | frozenset([neighbor])\n",
    "            heuristic = euclidean_heuristic(neighbor, goal)\n",
    "            heapq.heappush(open_set, (new_cost + heuristic, neighbor, new_visited, path + [neighbor], new_cost_without_heuristic))\n",
    "    \n",
    "    return None, float('inf'), float('inf'), tracemalloc.get_traced_memory()[1]"
   ]
  },
  {
   "cell_type": "markdown",
   "metadata": {
    "id": "KnbdDl6HF7sO"
   },
   "source": [
    "### 3.\tDefinition of Algorithm 2 (Random Restart Hill Climbing algorithm)"
   ]
  },
  {
   "cell_type": "code",
   "execution_count": 7,
   "metadata": {
    "id": "3HYh7-eJF7sP"
   },
   "outputs": [],
   "source": [
    "#Code Block: Function for algorithm 2 implementation\n",
    "def hill_climbing_with_restart(graph, start, goal, max_restarts=10, max_steps=20):\n",
    "    tracemalloc.start()\n",
    "    best_path = None\n",
    "    best_cost = float('inf')\n",
    "    random.seed(42)\n",
    "    nodes_to_visit = list(graph.keys())\n",
    "    nodes_to_visit.remove(start)\n",
    "    nodes_to_visit.remove(goal)\n",
    "    \n",
    "    for _ in range(max_restarts):\n",
    "        path = [start] + random.sample(nodes_to_visit, len(nodes_to_visit)) + [goal]\n",
    "        total_cost = sum(graph[path[i]].get(path[i+1], float('inf')) for i in range(len(path) - 1))\n",
    "        \n",
    "        current_path = path\n",
    "        current_cost = total_cost\n",
    "        for _ in range(max_steps):\n",
    "            neighbors = []\n",
    "            for i in range(1, len(current_path) - 2):\n",
    "                for j in range(i + 1, len(current_path) - 1):\n",
    "                    new_path = current_path[:]\n",
    "                    new_path[i], new_path[j] = new_path[j], new_path[i]\n",
    "                    new_cost = sum(graph[new_path[k]].get(new_path[k+1], float('inf')) for k in range(len(new_path) - 1))\n",
    "                    if new_cost < current_cost:\n",
    "                        neighbors.append((new_path, new_cost))\n",
    "            \n",
    "            if not neighbors:\n",
    "                break\n",
    "\n",
    "            best_neighbor, best_neighbor_cost = min(neighbors, key=lambda x: x[1])\n",
    "            current_path = best_neighbor\n",
    "            current_cost = best_neighbor_cost\n",
    "        \n",
    "        if current_cost < best_cost:\n",
    "            best_cost = current_cost\n",
    "            best_path = current_path\n",
    "    \n",
    "    memory_used = tracemalloc.get_traced_memory()[1]\n",
    "    tracemalloc.stop()\n",
    "    return best_path, best_cost, memory_used\n"
   ]
  },
  {
   "cell_type": "markdown",
   "metadata": {
    "id": "LEV2XHccF7sP"
   },
   "source": [
    "### DYNAMIC INPUT"
   ]
  },
  {
   "cell_type": "markdown",
   "metadata": {
    "id": "CylYRo_DF7sP"
   },
   "source": [
    "IMPORTANT : Dynamic Input must be got in this section. Display the possible states to choose from:\n",
    "This is applicable for all the relevent problems as mentioned in the question."
   ]
  },
  {
   "cell_type": "code",
   "execution_count": 8,
   "metadata": {
    "id": "Q5t1Lc-wF7sP"
   },
   "outputs": [
    {
     "name": "stdout",
     "output_type": "stream",
     "text": [
      "Available locations:\n",
      "- admission office\n",
      "- hostel office\n",
      "- hostel visit\n",
      "- canteen\n",
      "- dep't visit\n",
      "- library\n",
      "- exit\n"
     ]
    },
    {
     "name": "stdin",
     "output_type": "stream",
     "text": [
      "Enter the starting location:  canteen\n"
     ]
    }
   ],
   "source": [
    "#Code Block : Function & call to get inputs (start/end state)\n",
    "# Code Block: Function & call to get inputs\n",
    "def get_user_input():\n",
    "    print(\"Available locations:\")\n",
    "    for location in campus_map.keys():\n",
    "        print(f\"- {location}\")\n",
    "    \n",
    "    start_node = input(\"Enter the starting location: \").strip()\n",
    "    goal_node = \"exit\"\n",
    "    \n",
    "    if start_node not in campus_map:\n",
    "        print(\"Invalid starting location! Please run the program again.\")\n",
    "        sys.exit()\n",
    "    \n",
    "    return start_node, goal_node\n",
    "\n",
    "# Code Block : Function & call to get inputs (start/end state)\n",
    "start_node, goal_node = get_user_input()\n"
   ]
  },
  {
   "cell_type": "markdown",
   "metadata": {
    "id": "xsfOP81lF7sP"
   },
   "source": [
    "### 4.\tCalling the search algorithms\n",
    "(For bidirectional search in below sections first part can be used as per Hint provided. Under second section other combinations as per Hint or your choice of 2 algorithms can be called .As an analyst suggest suitable approximation in the comparitive analysis section)"
   ]
  },
  {
   "cell_type": "code",
   "execution_count": 13,
   "metadata": {
    "id": "Og5zI9thF7sP"
   },
   "outputs": [
    {
     "name": "stdout",
     "output_type": "stream",
     "text": [
      "Running A*...\n",
      "A* Path: ['canteen', \"dep't visit\", 'library', 'admission office', 'hostel office', 'hostel visit', 'exit']\n",
      "A* Cost with Heuristic: 64.28691821255524\n",
      "A* Cost without Heuristic: 17\n"
     ]
    }
   ],
   "source": [
    "#Invoke algorithm 1 (Should Print the solution, path, cost etc., (As mentioned in the problem))\n",
    "\n",
    "# Code Block: Invoke A* Algorithm\n",
    "# print(\"Running A*...\")\n",
    "# a_star_path, a_star_cost, a_star_cost_no_heuristic, a_star_memory = a_star_visit_all(campus_map, start_node, goal_node)\n",
    "# print(f\"A* Path: {a_star_path}\")\n",
    "# print(f\"A* Cost with Heuristic: {a_star_cost}\")\n",
    "# print(f\"A* Cost without Heuristic: {a_star_cost_no_heuristic}\")\n",
    "\n",
    "print(\"Running A*...\")\n",
    "a_star_start_time = time.time()\n",
    "a_star_path, a_star_cost, a_star_cost_no_heuristic, a_star_memory = a_star_visit_all(campus_map, start_node, goal_node)\n",
    "a_star_end_time = time.time()\n",
    "a_star_runtime = a_star_end_time - a_star_start_time\n",
    "print(f\"A* Path: {a_star_path}\")\n",
    "print(f\"A* Cost with Heuristic: {a_star_cost}\")\n",
    "print(f\"A* Cost without Heuristic: {a_star_cost_no_heuristic}\")\n",
    "\n"
   ]
  },
  {
   "cell_type": "code",
   "execution_count": 14,
   "metadata": {
    "id": "u3MJeA6eF7sP"
   },
   "outputs": [
    {
     "name": "stdout",
     "output_type": "stream",
     "text": [
      "\n",
      "Running Hill Climbing with Restart...\n",
      "Hill Climbing Path: ['canteen', \"dep't visit\", 'library', 'admission office', 'hostel office', 'hostel visit', 'exit']\n",
      "Hill Climbing Cost: 17\n"
     ]
    }
   ],
   "source": [
    "#Invoke algorithm 2 (Should Print the solution, path, cost etc., (As mentioned in the problem))\n",
    " # Code Block: Invoke Hill Climbing Algorithm\n",
    "print(\"\\nRunning Hill Climbing with Restart...\")\n",
    "hill_start_time = time.time()\n",
    "hill_path, hill_cost, hill_memory = hill_climbing_with_restart(campus_map, start_node, goal_node)\n",
    "hill_end_time = time.time()\n",
    "hill_runtime = hill_end_time - hill_start_time\n",
    "print(f\"Hill Climbing Path: {hill_path}\")\n",
    "print(f\"Hill Climbing Cost: {hill_cost}\")\n",
    "\n",
    "\n"
   ]
  },
  {
   "cell_type": "markdown",
   "metadata": {
    "id": "TOU3Rem6F7sQ"
   },
   "source": [
    "### 5.\tComparitive Analysis (Time and Space Complexity)"
   ]
  },
  {
   "cell_type": "code",
   "execution_count": 15,
   "metadata": {
    "id": "HG6fWwiIF7sQ"
   },
   "outputs": [
    {
     "name": "stdout",
     "output_type": "stream",
     "text": [
      "\n",
      "A* Algorithm Complexity:\n",
      "Time Complexity: O(b^d) in worst case \n",
      "Space Complexiity: O(b^d) in worst case\n",
      "Space Occupied: 183816 bytes\n",
      "Run Time: 0.012514 seconds\n"
     ]
    }
   ],
   "source": [
    "#Code Block : Print the Time & Space complexity of algorithm 1\n",
    "# Code Block : Print the Time & Space complexity of algorithm 1\n",
    "print(\"\\nA* Algorithm Complexity:\")\n",
    "print(\"Time Complexity: O(b^d) in worst case \\nSpace Complexiity: O(b^d) in worst case\")  # A* has exponential worst-case complexity\n",
    "print(f\"Space Occupied: {a_star_memory} bytes\")\n",
    "print(f\"Run Time: {a_star_runtime:.6f} seconds\")\n"
   ]
  },
  {
   "cell_type": "code",
   "execution_count": 16,
   "metadata": {
    "id": "xMButLKCF7sQ"
   },
   "outputs": [
    {
     "name": "stdout",
     "output_type": "stream",
     "text": [
      "\n",
      "Hill Climbing Algorithm Complexity:\n",
      "Time Complexity: O(n^2) in worst case with restarts \n",
      "Space Complexiity: O(1)\n",
      "Space Occupied: 1472 bytes\n",
      "Run Time: 0.005665 seconds\n"
     ]
    }
   ],
   "source": [
    "#Code Block : Print the Time & Space complexity of algorithm 2\n",
    "# Code Block : Print the Time & Space complexity of algorithm 2\n",
    "print(\"\\nHill Climbing Algorithm Complexity:\")\n",
    "print(\"Time Complexity: O(n^2) in worst case with restarts \\nSpace Complexiity: O(1)\")  # Depends on steps and restarts\n",
    "print(f\"Space Occupied: {hill_memory} bytes\")\n",
    "print(f\"Run Time: {hill_runtime:.6f} seconds\")"
   ]
  },
  {
   "cell_type": "markdown",
   "metadata": {
    "id": "y2nXwAlsF7sQ"
   },
   "source": [
    "### 6.\tProvide your comparitive analysis or findings in no more than 3 lines in below section"
   ]
  },
  {
   "cell_type": "markdown",
   "metadata": {
    "id": "si483-zoF7sQ"
   },
   "source": [
    "Comparison: <u>A* guarantees the optimal path but incurs higher space complexity due to its exhaustive search, whereas Hill Climbing with Restart is memory-efficient but may not always find the best solution. Despite A* being more accurate, Hill Climbing executes faster due to its greedy approach. Hence, A* is preferable when memory is not a constraint, while Hill Climbing is suitable for quick approximations in large state spaces.</u>"
   ]
  }
 ],
 "metadata": {
  "colab": {
   "provenance": []
  },
  "kernelspec": {
   "display_name": "Python 3 (ipykernel)",
   "language": "python",
   "name": "python3"
  },
  "language_info": {
   "codemirror_mode": {
    "name": "ipython",
    "version": 3
   },
   "file_extension": ".py",
   "mimetype": "text/x-python",
   "name": "python",
   "nbconvert_exporter": "python",
   "pygments_lexer": "ipython3",
   "version": "3.12.7"
  }
 },
 "nbformat": 4,
 "nbformat_minor": 4
}
